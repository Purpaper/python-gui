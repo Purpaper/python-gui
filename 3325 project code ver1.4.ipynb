{
 "cells": [
  {
   "cell_type": "code",
   "execution_count": 2,
   "metadata": {},
   "outputs": [],
   "source": [
    "import pandas as pd\n",
    "import matplotlib.pyplot as plt\n",
    "import numpy as np"
   ]
  },
  {
   "cell_type": "code",
   "execution_count": 3,
   "metadata": {},
   "outputs": [],
   "source": [
    "#setting & read csv\n",
    "pd.options.display.max_rows = 250\n",
    "df = pd.read_csv(\"C:/Users/user/Downloads/Table 210-06201 (2).csv\")"
   ]
  },
  {
   "cell_type": "code",
   "execution_count": 4,
   "metadata": {},
   "outputs": [],
   "source": [
    "# data cleaning\n",
    "df2 = df.drop(df.columns[[1]],axis = 1).drop([0]).reset_index().drop(['index'], axis = 1)\n",
    "def swap_rows(df, row1, position1, row2, position2):\n",
    "    df.iloc[row1][position1], df.iloc[row1][position2] =  df.iloc[row2][position1], df.iloc[row2][position2]\n",
    "    return df\n",
    "testdf = swap_rows(df2, 0,0, 3,1)\n",
    "testdf.iloc[0, 2:] = testdf.iloc[0, 2:]+'-'+testdf.iloc[1, 2:]+'-'+testdf.iloc[2, 2:]\n",
    "testdf = testdf.dropna().drop([1]).rename(columns=testdf.iloc[0]).drop([0]).reset_index().drop(['index'], axis = 1)\n",
    "\n"
   ]
  },
  {
   "cell_type": "code",
   "execution_count": 5,
   "metadata": {},
   "outputs": [],
   "source": [
    "#extract data\n",
    "dfyear_filtered = testdf[testdf['Year / Moving 3-month period'].map(len) == 4]"
   ]
  },
  {
   "cell_type": "code",
   "execution_count": 6,
   "metadata": {},
   "outputs": [],
   "source": [
    "#drop useless rows\n",
    "droprows = []\n",
    "num1 = 0\n",
    "num2 = 10\n",
    "num3 = 13\n",
    "for i in range(len(dfyear_filtered)):\n",
    "    if num1<len(dfyear_filtered):\n",
    "        if num2<len(dfyear_filtered):\n",
    "            if num3<=len(dfyear_filtered):\n",
    "                droprows.append(num1)\n",
    "                droprows.append(num2)\n",
    "                droprows.append(num3)\n",
    "                num1+=14\n",
    "                num2+=14\n",
    "                num3+=14\n",
    "\n",
    "dfyear_filtered = dfyear_filtered.drop(droprows)"
   ]
  },
  {
   "cell_type": "code",
   "execution_count": 7,
   "metadata": {},
   "outputs": [],
   "source": [
    "dfyear_filtered.iloc[:,2:8] = dfyear_filtered.iloc[:,2:8].astype('float64')\n",
    "dfyear_filtered[\"Age group\"] = dfyear_filtered[\"Age group\"].apply(lambda x: x.strip())"
   ]
  },
  {
   "cell_type": "code",
   "execution_count": 8,
   "metadata": {},
   "outputs": [],
   "source": [
    "#extract example\n",
    "dfyearage_filtered = dfyear_filtered[dfyear_filtered['Age group'] == '15 - 19']"
   ]
  },
  {
   "cell_type": "code",
   "execution_count": 9,
   "metadata": {},
   "outputs": [
    {
     "data": {
      "image/png": "[encoded data removed]",
      "text/plain": [
       "<Figure size 432x288 with 1 Axes>"
      ]
     },
     "metadata": {
      "needs_background": "light"
     },
     "output_type": "display_data"
    }
   ],
   "source": [
    "#plot example\n",
    "plt.plot(dfyearage_filtered['Year / Moving 3-month period'], dfyearage_filtered[\"Male-Labour force (1)-No. ('000)\"],marker = \"o\")\n",
    "plt.plot(dfyearage_filtered['Year / Moving 3-month period'], dfyearage_filtered[\"Female-Labour force (1)-No. ('000)\"],marker = \"o\")\n",
    "plt.xticks(rotation=45)\n",
    "plt.legend(['male', 'female'])\n",
    "plt.xlabel(\"age group\")\n",
    "plt.ylabel('thousand')\n",
    "plt.yticks(np.arange(8, 18, 0.5)) \n",
    "plt.show()"
   ]
  },
  {
   "cell_type": "code",
   "execution_count": 10,
   "metadata": {},
   "outputs": [
    {
     "ename": "SyntaxError",
     "evalue": "invalid syntax (<ipython-input-10-cbff1833bd10>, line 1)",
     "output_type": "error",
     "traceback": [
      "\u001b[1;36m  File \u001b[1;32m\"<ipython-input-10-cbff1833bd10>\"\u001b[1;36m, line \u001b[1;32m1\u001b[0m\n\u001b[1;33m    for i in dfyearage_filtered[]\u001b[0m\n\u001b[1;37m                                ^\u001b[0m\n\u001b[1;31mSyntaxError\u001b[0m\u001b[1;31m:\u001b[0m invalid syntax\n"
     ]
    }
   ],
   "source": [
    "for i in dfyearage_filtered[]"
   ]
  },
  {
   "cell_type": "code",
   "execution_count": 17,
   "metadata": {},
   "outputs": [],
   "source": [
    "rslt_df = dfyear_filtered[dfyear_filtered['Year / Moving 3-month period'] == '2022']"
   ]
  },
  {
   "cell_type": "code",
   "execution_count": 18,
   "metadata": {},
   "outputs": [
    {
     "data": {
      "text/html": [
       "<div>\n",
       "<style scoped>\n",
       "    .dataframe tbody tr th:only-of-type {\n",
       "        vertical-align: middle;\n",
       "    }\n",
       "\n",
       "    .dataframe tbody tr th {\n",
       "        vertical-align: top;\n",
       "    }\n",
       "\n",
       "    .dataframe thead th {\n",
       "        text-align: right;\n",
       "    }\n",
       "</style>\n",
       "<table border=\"1\" class=\"dataframe\">\n",
       "  <thead>\n",
       "    <tr style=\"text-align: right;\">\n",
       "      <th></th>\n",
       "      <th>Year / Moving 3-month period</th>\n",
       "      <th>Age group</th>\n",
       "      <th>Male-Labour force (1)-No. ('000)</th>\n",
       "      <th>Male-Labour force participation rate (2)-(%)</th>\n",
       "      <th>Female-Labour force (1)-No. ('000)</th>\n",
       "      <th>Female-Labour force participation rate (2)-(%)</th>\n",
       "      <th>Both sexes-Labour force (1)-No. ('000)</th>\n",
       "      <th>Both sexes-Labour force participation rate (2)-(%)</th>\n",
       "    </tr>\n",
       "  </thead>\n",
       "  <tbody>\n",
       "    <tr>\n",
       "      <th>57</th>\n",
       "      <td>2022</td>\n",
       "      <td>15 - 19</td>\n",
       "      <td>9.6</td>\n",
       "      <td>7</td>\n",
       "      <td>10.1</td>\n",
       "      <td>7.7</td>\n",
       "      <td>19.6</td>\n",
       "      <td>7.3</td>\n",
       "    </tr>\n",
       "    <tr>\n",
       "      <th>58</th>\n",
       "      <td>2022</td>\n",
       "      <td>20 - 24</td>\n",
       "      <td>81.1</td>\n",
       "      <td>53.3</td>\n",
       "      <td>81.1</td>\n",
       "      <td>54.2</td>\n",
       "      <td>162.2</td>\n",
       "      <td>53.8</td>\n",
       "    </tr>\n",
       "    <tr>\n",
       "      <th>59</th>\n",
       "      <td>2022</td>\n",
       "      <td>25 - 29</td>\n",
       "      <td>184.7</td>\n",
       "      <td>89.7</td>\n",
       "      <td>196.6</td>\n",
       "      <td>86.2</td>\n",
       "      <td>381.3</td>\n",
       "      <td>87.9</td>\n",
       "    </tr>\n",
       "    <tr>\n",
       "      <th>60</th>\n",
       "      <td>2022</td>\n",
       "      <td>30 - 34</td>\n",
       "      <td>210.5</td>\n",
       "      <td>93.9</td>\n",
       "      <td>233.5</td>\n",
       "      <td>81.7</td>\n",
       "      <td>444</td>\n",
       "      <td>87</td>\n",
       "    </tr>\n",
       "    <tr>\n",
       "      <th>61</th>\n",
       "      <td>2022</td>\n",
       "      <td>35 - 39</td>\n",
       "      <td>212.1</td>\n",
       "      <td>94</td>\n",
       "      <td>255</td>\n",
       "      <td>76.6</td>\n",
       "      <td>467.1</td>\n",
       "      <td>83.6</td>\n",
       "    </tr>\n",
       "    <tr>\n",
       "      <th>62</th>\n",
       "      <td>2022</td>\n",
       "      <td>40 - 44</td>\n",
       "      <td>219.8</td>\n",
       "      <td>94.4</td>\n",
       "      <td>260.7</td>\n",
       "      <td>74.6</td>\n",
       "      <td>480.4</td>\n",
       "      <td>82.5</td>\n",
       "    </tr>\n",
       "    <tr>\n",
       "      <th>63</th>\n",
       "      <td>2022</td>\n",
       "      <td>45 - 49</td>\n",
       "      <td>215.3</td>\n",
       "      <td>92.4</td>\n",
       "      <td>242.6</td>\n",
       "      <td>73.3</td>\n",
       "      <td>457.9</td>\n",
       "      <td>81.2</td>\n",
       "    </tr>\n",
       "    <tr>\n",
       "      <th>64</th>\n",
       "      <td>2022</td>\n",
       "      <td>50 - 54</td>\n",
       "      <td>217.2</td>\n",
       "      <td>89.8</td>\n",
       "      <td>234.5</td>\n",
       "      <td>70.7</td>\n",
       "      <td>451.7</td>\n",
       "      <td>78.7</td>\n",
       "    </tr>\n",
       "    <tr>\n",
       "      <th>65</th>\n",
       "      <td>2022</td>\n",
       "      <td>55 - 59</td>\n",
       "      <td>217.3</td>\n",
       "      <td>81</td>\n",
       "      <td>195.2</td>\n",
       "      <td>58.5</td>\n",
       "      <td>412.5</td>\n",
       "      <td>68.6</td>\n",
       "    </tr>\n",
       "    <tr>\n",
       "      <th>67</th>\n",
       "      <td>2022</td>\n",
       "      <td>60 - 64</td>\n",
       "      <td>184.4</td>\n",
       "      <td>61.2</td>\n",
       "      <td>119.5</td>\n",
       "      <td>37</td>\n",
       "      <td>303.8</td>\n",
       "      <td>48.7</td>\n",
       "    </tr>\n",
       "    <tr>\n",
       "      <th>68</th>\n",
       "      <td>2022</td>\n",
       "      <td>65 and over</td>\n",
       "      <td>134</td>\n",
       "      <td>19.3</td>\n",
       "      <td>61.6</td>\n",
       "      <td>7.9</td>\n",
       "      <td>195.7</td>\n",
       "      <td>13.3</td>\n",
       "    </tr>\n",
       "  </tbody>\n",
       "</table>\n",
       "</div>"
      ],
      "text/plain": [
       "   Year / Moving 3-month period    Age group Male-Labour force (1)-No. ('000)  \\\n",
       "57                         2022      15 - 19                              9.6   \n",
       "58                         2022      20 - 24                             81.1   \n",
       "59                         2022      25 - 29                            184.7   \n",
       "60                         2022      30 - 34                            210.5   \n",
       "61                         2022      35 - 39                            212.1   \n",
       "62                         2022      40 - 44                            219.8   \n",
       "63                         2022      45 - 49                            215.3   \n",
       "64                         2022      50 - 54                            217.2   \n",
       "65                         2022      55 - 59                            217.3   \n",
       "67                         2022      60 - 64                            184.4   \n",
       "68                         2022  65 and over                              134   \n",
       "\n",
       "   Male-Labour force participation rate (2)-(%)  \\\n",
       "57                                            7   \n",
       "58                                         53.3   \n",
       "59                                         89.7   \n",
       "60                                         93.9   \n",
       "61                                           94   \n",
       "62                                         94.4   \n",
       "63                                         92.4   \n",
       "64                                         89.8   \n",
       "65                                           81   \n",
       "67                                         61.2   \n",
       "68                                         19.3   \n",
       "\n",
       "   Female-Labour force (1)-No. ('000)  \\\n",
       "57                               10.1   \n",
       "58                               81.1   \n",
       "59                              196.6   \n",
       "60                              233.5   \n",
       "61                                255   \n",
       "62                              260.7   \n",
       "63                              242.6   \n",
       "64                              234.5   \n",
       "65                              195.2   \n",
       "67                              119.5   \n",
       "68                               61.6   \n",
       "\n",
       "   Female-Labour force participation rate (2)-(%)  \\\n",
       "57                                            7.7   \n",
       "58                                           54.2   \n",
       "59                                           86.2   \n",
       "60                                           81.7   \n",
       "61                                           76.6   \n",
       "62                                           74.6   \n",
       "63                                           73.3   \n",
       "64                                           70.7   \n",
       "65                                           58.5   \n",
       "67                                             37   \n",
       "68                                            7.9   \n",
       "\n",
       "   Both sexes-Labour force (1)-No. ('000)  \\\n",
       "57                                   19.6   \n",
       "58                                  162.2   \n",
       "59                                  381.3   \n",
       "60                                    444   \n",
       "61                                  467.1   \n",
       "62                                  480.4   \n",
       "63                                  457.9   \n",
       "64                                  451.7   \n",
       "65                                  412.5   \n",
       "67                                  303.8   \n",
       "68                                  195.7   \n",
       "\n",
       "   Both sexes-Labour force participation rate (2)-(%)  \n",
       "57                                                7.3  \n",
       "58                                               53.8  \n",
       "59                                               87.9  \n",
       "60                                                 87  \n",
       "61                                               83.6  \n",
       "62                                               82.5  \n",
       "63                                               81.2  \n",
       "64                                               78.7  \n",
       "65                                               68.6  \n",
       "67                                               48.7  \n",
       "68                                               13.3  "
      ]
     },
     "execution_count": 18,
     "metadata": {},
     "output_type": "execute_result"
    }
   ],
   "source": [
    "rslt_df"
   ]
  },
  {
   "cell_type": "code",
   "execution_count": 19,
   "metadata": {},
   "outputs": [
    {
     "name": "stdout",
     "output_type": "stream",
     "text": [
      "Male-Labour force (1)-No. ('000)                      object\n",
      "Male-Labour force participation rate (2)-(%)          object\n",
      "Female-Labour force (1)-No. ('000)                    object\n",
      "Female-Labour force participation rate (2)-(%)        object\n",
      "Both sexes-Labour force (1)-No. ('000)                object\n",
      "Both sexes-Labour force participation rate (2)-(%)    object\n",
      "dtype: object\n"
     ]
    }
   ],
   "source": [
    "print(rslt_df.iloc[0:3,2:8].dtypes)"
   ]
  },
  {
   "cell_type": "code",
   "execution_count": 20,
   "metadata": {},
   "outputs": [
    {
     "ename": "NameError",
     "evalue": "name 'a' is not defined",
     "output_type": "error",
     "traceback": [
      "\u001b[1;31m---------------------------------------------------------------------------\u001b[0m",
      "\u001b[1;31mNameError\u001b[0m                                 Traceback (most recent call last)",
      "\u001b[1;32m<ipython-input-20-93ac5993ee21>\u001b[0m in \u001b[0;36m<module>\u001b[1;34m\u001b[0m\n\u001b[1;32m----> 1\u001b[1;33m \u001b[0mres\u001b[0m \u001b[1;33m=\u001b[0m \u001b[0mpd\u001b[0m\u001b[1;33m.\u001b[0m\u001b[0mconcat\u001b[0m\u001b[1;33m(\u001b[0m\u001b[1;33m[\u001b[0m\u001b[0mdf\u001b[0m\u001b[1;33m,\u001b[0m \u001b[0ma\u001b[0m\u001b[1;33m]\u001b[0m\u001b[1;33m,\u001b[0m \u001b[0maxis\u001b[0m \u001b[1;33m=\u001b[0m \u001b[1;36m1\u001b[0m\u001b[1;33m)\u001b[0m\u001b[1;33m\u001b[0m\u001b[1;33m\u001b[0m\u001b[0m\n\u001b[0m",
      "\u001b[1;31mNameError\u001b[0m: name 'a' is not defined"
     ]
    }
   ],
   "source": [
    "res = pd.concat([df, a], axis = 1)"
   ]
  },
  {
   "cell_type": "code",
   "execution_count": 21,
   "metadata": {},
   "outputs": [
    {
     "ename": "NameError",
     "evalue": "name 'res' is not defined",
     "output_type": "error",
     "traceback": [
      "\u001b[1;31m---------------------------------------------------------------------------\u001b[0m",
      "\u001b[1;31mNameError\u001b[0m                                 Traceback (most recent call last)",
      "\u001b[1;32m<ipython-input-21-c08785e04264>\u001b[0m in \u001b[0;36m<module>\u001b[1;34m\u001b[0m\n\u001b[1;32m----> 1\u001b[1;33m \u001b[0mres\u001b[0m\u001b[1;33m\u001b[0m\u001b[1;33m\u001b[0m\u001b[0m\n\u001b[0m",
      "\u001b[1;31mNameError\u001b[0m: name 'res' is not defined"
     ]
    }
   ],
   "source": [
    "res"
   ]
  },
  {
   "cell_type": "code",
   "execution_count": 22,
   "metadata": {},
   "outputs": [],
   "source": [
    "a = rslt_df.iloc[0:2, 2:8].sum().to_frame().transpose()"
   ]
  },
  {
   "cell_type": "code",
   "execution_count": 23,
   "metadata": {},
   "outputs": [
    {
     "data": {
      "text/html": [
       "<div>\n",
       "<style scoped>\n",
       "    .dataframe tbody tr th:only-of-type {\n",
       "        vertical-align: middle;\n",
       "    }\n",
       "\n",
       "    .dataframe tbody tr th {\n",
       "        vertical-align: top;\n",
       "    }\n",
       "\n",
       "    .dataframe thead th {\n",
       "        text-align: right;\n",
       "    }\n",
       "</style>\n",
       "<table border=\"1\" class=\"dataframe\">\n",
       "  <thead>\n",
       "    <tr style=\"text-align: right;\">\n",
       "      <th></th>\n",
       "      <th>Year</th>\n",
       "      <th>col2</th>\n",
       "    </tr>\n",
       "  </thead>\n",
       "  <tbody>\n",
       "    <tr>\n",
       "      <th>0</th>\n",
       "      <td>1</td>\n",
       "      <td>3</td>\n",
       "    </tr>\n",
       "  </tbody>\n",
       "</table>\n",
       "</div>"
      ],
      "text/plain": [
       "   Year  col2\n",
       "0     1     3"
      ]
     },
     "execution_count": 23,
     "metadata": {},
     "output_type": "execute_result"
    }
   ],
   "source": [
    "res = pd.concat([df, a], axis = 1)\n",
    "d = {'Year': [1], 'col2': [3]}\n",
    "df = pd.DataFrame(data=d)\n",
    "df"
   ]
  },
  {
   "cell_type": "code",
   "execution_count": 32,
   "metadata": {},
   "outputs": [],
   "source": [
    "marks_list = dfyear_filtered['Year / Moving 3-month period'].tolist()"
   ]
  },
  {
   "cell_type": "code",
   "execution_count": 37,
   "metadata": {},
   "outputs": [],
   "source": [
    "dup = list({x for x in marks_list if marks_list.count(x) > 1})"
   ]
  },
  {
   "cell_type": "code",
   "execution_count": 38,
   "metadata": {},
   "outputs": [
    {
     "data": {
      "text/plain": [
       "['2021', '2020', '2019', '2018', '2022']"
      ]
     },
     "execution_count": 38,
     "metadata": {},
     "output_type": "execute_result"
    }
   ],
   "source": [
    "dup"
   ]
  },
  {
   "cell_type": "code",
   "execution_count": 35,
   "metadata": {},
   "outputs": [
    {
     "name": "stdout",
     "output_type": "stream",
     "text": [
      "2021\n",
      "2020\n",
      "2019\n",
      "2018\n",
      "2022\n"
     ]
    }
   ],
   "source": []
  },
  {
   "cell_type": "code",
   "execution_count": null,
   "metadata": {},
   "outputs": [],
   "source": []
  }
 ],
 "metadata": {
  "kernelspec": {
   "display_name": "Python 3",
   "language": "python",
   "name": "python3"
  },
  "language_info": {
   "codemirror_mode": {
    "name": "ipython",
    "version": 3
   },
   "file_extension": ".py",
   "mimetype": "text/x-python",
   "name": "python",
   "nbconvert_exporter": "python",
   "pygments_lexer": "ipython3",
   "version": "3.8.5"
  }
 },
 "nbformat": 4,
 "nbformat_minor": 5
}
